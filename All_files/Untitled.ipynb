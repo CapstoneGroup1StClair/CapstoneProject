{
 "cells": [
  {
   "cell_type": "code",
   "execution_count": 1,
   "id": "80be4302",
   "metadata": {},
   "outputs": [
    {
     "data": {
      "text/html": [
       "<div>\n",
       "<style scoped>\n",
       "    .dataframe tbody tr th:only-of-type {\n",
       "        vertical-align: middle;\n",
       "    }\n",
       "\n",
       "    .dataframe tbody tr th {\n",
       "        vertical-align: top;\n",
       "    }\n",
       "\n",
       "    .dataframe thead th {\n",
       "        text-align: right;\n",
       "    }\n",
       "</style>\n",
       "<table border=\"1\" class=\"dataframe\">\n",
       "  <thead>\n",
       "    <tr style=\"text-align: right;\">\n",
       "      <th></th>\n",
       "      <th>Quantity</th>\n",
       "    </tr>\n",
       "    <tr>\n",
       "      <th>Issuance Date</th>\n",
       "      <th></th>\n",
       "    </tr>\n",
       "  </thead>\n",
       "  <tbody>\n",
       "    <tr>\n",
       "      <th>2003-01-31</th>\n",
       "      <td>-0.032956</td>\n",
       "    </tr>\n",
       "    <tr>\n",
       "      <th>2003-02-28</th>\n",
       "      <td>0.000040</td>\n",
       "    </tr>\n",
       "    <tr>\n",
       "      <th>2003-03-31</th>\n",
       "      <td>0.000040</td>\n",
       "    </tr>\n",
       "    <tr>\n",
       "      <th>2003-04-30</th>\n",
       "      <td>0.000040</td>\n",
       "    </tr>\n",
       "    <tr>\n",
       "      <th>2003-05-31</th>\n",
       "      <td>0.000040</td>\n",
       "    </tr>\n",
       "    <tr>\n",
       "      <th>...</th>\n",
       "      <td>...</td>\n",
       "    </tr>\n",
       "    <tr>\n",
       "      <th>2022-12-31</th>\n",
       "      <td>0.373147</td>\n",
       "    </tr>\n",
       "    <tr>\n",
       "      <th>2023-01-31</th>\n",
       "      <td>-0.566194</td>\n",
       "    </tr>\n",
       "    <tr>\n",
       "      <th>2023-02-28</th>\n",
       "      <td>-0.678748</td>\n",
       "    </tr>\n",
       "    <tr>\n",
       "      <th>2023-03-31</th>\n",
       "      <td>0.392784</td>\n",
       "    </tr>\n",
       "    <tr>\n",
       "      <th>2023-04-30</th>\n",
       "      <td>-0.761231</td>\n",
       "    </tr>\n",
       "  </tbody>\n",
       "</table>\n",
       "<p>244 rows × 1 columns</p>\n",
       "</div>"
      ],
      "text/plain": [
       "               Quantity\n",
       "Issuance Date          \n",
       "2003-01-31    -0.032956\n",
       "2003-02-28     0.000040\n",
       "2003-03-31     0.000040\n",
       "2003-04-30     0.000040\n",
       "2003-05-31     0.000040\n",
       "...                 ...\n",
       "2022-12-31     0.373147\n",
       "2023-01-31    -0.566194\n",
       "2023-02-28    -0.678748\n",
       "2023-03-31     0.392784\n",
       "2023-04-30    -0.761231\n",
       "\n",
       "[244 rows x 1 columns]"
      ]
     },
     "execution_count": 1,
     "metadata": {},
     "output_type": "execute_result"
    }
   ],
   "source": [
    "import pandas as pd\n",
    "data = pd.read_csv('lstm_monthly.csv', parse_dates = ['Issuance Date'], index_col = ['Issuance Date'])\n",
    "data"
   ]
  },
  {
   "cell_type": "code",
   "execution_count": 2,
   "id": "6a112c95",
   "metadata": {},
   "outputs": [
    {
     "data": {
      "text/plain": [
       "(51, 1)"
      ]
     },
     "execution_count": 2,
     "metadata": {},
     "output_type": "execute_result"
    }
   ],
   "source": [
    "train = data.loc[:'2019-02-11',:]\n",
    "val = data.loc['2019-02-11':,:]\n",
    "val.shape"
   ]
  },
  {
   "cell_type": "code",
   "execution_count": 3,
   "id": "bdedbc7a",
   "metadata": {},
   "outputs": [],
   "source": [
    "import numpy as np\n",
    "train = np.array(train)"
   ]
  },
  {
   "cell_type": "code",
   "execution_count": 4,
   "id": "6caea32d",
   "metadata": {},
   "outputs": [
    {
     "data": {
      "text/plain": [
       "(51, 1)"
      ]
     },
     "execution_count": 4,
     "metadata": {},
     "output_type": "execute_result"
    }
   ],
   "source": [
    "val = np.array(val)\n",
    "val.shape"
   ]
  },
  {
   "cell_type": "code",
   "execution_count": 5,
   "id": "8f34bb4c",
   "metadata": {},
   "outputs": [],
   "source": [
    "\n",
    "def generate_sequences(data, seq_length):\n",
    "    X = []\n",
    "    y = []\n",
    "    for i in range(len(data) - seq_length):\n",
    "        try:\n",
    "            X.append(data[i:i+seq_length])\n",
    "            y.append(data[i+seq_length])\n",
    "        except KeyError:\n",
    "            break\n",
    "    return np.array(X), np.array(y)"
   ]
  },
  {
   "cell_type": "code",
   "execution_count": 6,
   "id": "a72a0e12",
   "metadata": {},
   "outputs": [],
   "source": [
    "seq_length = 2\n",
    "X_train, y_train = generate_sequences(train, seq_length)\n",
    "X_val, y_val = generate_sequences(val, seq_length)"
   ]
  },
  {
   "cell_type": "code",
   "execution_count": 7,
   "id": "efef4f30",
   "metadata": {},
   "outputs": [
    {
     "data": {
      "text/plain": [
       "(191, 2, 1)"
      ]
     },
     "execution_count": 7,
     "metadata": {},
     "output_type": "execute_result"
    }
   ],
   "source": [
    "X_train.shape"
   ]
  },
  {
   "cell_type": "code",
   "execution_count": 8,
   "id": "916af1b9",
   "metadata": {},
   "outputs": [
    {
     "data": {
      "text/plain": [
       "(49, 2, 1)"
      ]
     },
     "execution_count": 8,
     "metadata": {},
     "output_type": "execute_result"
    }
   ],
   "source": [
    "X_val.shape"
   ]
  },
  {
   "cell_type": "code",
   "execution_count": 9,
   "id": "2a69e394",
   "metadata": {},
   "outputs": [
    {
     "name": "stdout",
     "output_type": "stream",
     "text": [
      "Model: \"sequential\"\n",
      "_________________________________________________________________\n",
      "Layer (type)                 Output Shape              Param #   \n",
      "=================================================================\n",
      "lstm (LSTM)                  (1, 2, 45)                8460      \n",
      "_________________________________________________________________\n",
      "batch_normalization (BatchNo (1, 2, 45)                180       \n",
      "_________________________________________________________________\n",
      "dropout (Dropout)            (1, 2, 45)                0         \n",
      "_________________________________________________________________\n",
      "lstm_1 (LSTM)                (1, 30)                   9120      \n",
      "_________________________________________________________________\n",
      "batch_normalization_1 (Batch (1, 30)                   120       \n",
      "_________________________________________________________________\n",
      "dropout_1 (Dropout)          (1, 30)                   0         \n",
      "_________________________________________________________________\n",
      "dense (Dense)                (1, 64)                   1984      \n",
      "_________________________________________________________________\n",
      "batch_normalization_2 (Batch (1, 64)                   256       \n",
      "_________________________________________________________________\n",
      "dropout_2 (Dropout)          (1, 64)                   0         \n",
      "_________________________________________________________________\n",
      "dense_1 (Dense)              (1, 1)                    65        \n",
      "=================================================================\n",
      "Total params: 20,185\n",
      "Trainable params: 19,907\n",
      "Non-trainable params: 278\n",
      "_________________________________________________________________\n"
     ]
    }
   ],
   "source": [
    "from tensorflow.keras.models import Sequential, load_model\n",
    "from tensorflow.keras.layers import Dense, Dropout, LSTM, BatchNormalization, Bidirectional, Flatten\n",
    "from tensorflow.keras.callbacks import EarlyStopping,ModelCheckpoint\n",
    "\n",
    "# Define the LSTM model\n",
    "model = Sequential()\n",
    "model.add(LSTM(units=45, batch_input_shape=(1,2,1),  stateful = True, return_sequences = True))\n",
    "model.add(BatchNormalization())\n",
    "model.add(Dropout(0.5))\n",
    "model.add(LSTM(units=30,  stateful = True))\n",
    "model.add(BatchNormalization())\n",
    "model.add(Dropout(0.5))\n",
    "model.add(Dense(units=64))\n",
    "model.add(BatchNormalization())\n",
    "model.add(Dropout(0.3))\n",
    "model.add(Dense(units=1))\n",
    "model.summary()"
   ]
  },
  {
   "cell_type": "code",
   "execution_count": 10,
   "id": "c628aef7",
   "metadata": {},
   "outputs": [],
   "source": [
    "model.compile(optimizer='adam', loss='mean_squared_error', metrics = ['RootMeanSquaredError'])\n",
    "stop = EarlyStopping(monitor='val_loss', mode = 'min', patience = 30)\n",
    "mc = ModelCheckpoint('best_model.h5', monitor='val_loss', mode='min', verbose=1, save_best_only=True)"
   ]
  },
  {
   "cell_type": "code",
   "execution_count": 11,
   "id": "e10c87b0",
   "metadata": {},
   "outputs": [
    {
     "name": "stdout",
     "output_type": "stream",
     "text": [
      "Epoch 1/100\n",
      "152/152 [==============================] - 6s 14ms/step - loss: 0.6397 - root_mean_squared_error: 0.7998 - val_loss: 2.9659 - val_root_mean_squared_error: 1.7222\n",
      "\n",
      "Epoch 00001: val_loss improved from inf to 2.96589, saving model to best_model.h5\n",
      "Epoch 2/100\n",
      "152/152 [==============================] - 1s 7ms/step - loss: 0.6391 - root_mean_squared_error: 0.7995 - val_loss: 17.5682 - val_root_mean_squared_error: 4.1914\n",
      "\n",
      "Epoch 00002: val_loss did not improve from 2.96589\n",
      "Epoch 3/100\n",
      "152/152 [==============================] - 1s 7ms/step - loss: 0.6381 - root_mean_squared_error: 0.7988 - val_loss: 764.4980 - val_root_mean_squared_error: 27.6496\n",
      "\n",
      "Epoch 00003: val_loss did not improve from 2.96589\n",
      "Epoch 4/100\n",
      "152/152 [==============================] - 1s 7ms/step - loss: 0.6395 - root_mean_squared_error: 0.7997 - val_loss: 17046.6328 - val_root_mean_squared_error: 130.5627\n",
      "\n",
      "Epoch 00004: val_loss did not improve from 2.96589\n",
      "Epoch 5/100\n",
      "152/152 [==============================] - 1s 7ms/step - loss: 0.6371 - root_mean_squared_error: 0.7982 - val_loss: 89891.7656 - val_root_mean_squared_error: 299.8195\n",
      "\n",
      "Epoch 00005: val_loss did not improve from 2.96589\n",
      "Epoch 6/100\n",
      "152/152 [==============================] - 1s 7ms/step - loss: 0.6396 - root_mean_squared_error: 0.7997 - val_loss: 174221.6250 - val_root_mean_squared_error: 417.3986\n",
      "\n",
      "Epoch 00006: val_loss did not improve from 2.96589\n",
      "Epoch 7/100\n",
      "152/152 [==============================] - 1s 7ms/step - loss: 0.6388 - root_mean_squared_error: 0.7992 - val_loss: 183974.2500 - val_root_mean_squared_error: 428.9222\n",
      "\n",
      "Epoch 00007: val_loss did not improve from 2.96589\n",
      "Epoch 8/100\n",
      "152/152 [==============================] - 1s 7ms/step - loss: 0.6407 - root_mean_squared_error: 0.8004 - val_loss: 189041.9219 - val_root_mean_squared_error: 434.7895\n",
      "\n",
      "Epoch 00008: val_loss did not improve from 2.96589\n",
      "Epoch 9/100\n",
      "152/152 [==============================] - 1s 7ms/step - loss: 0.6411 - root_mean_squared_error: 0.8007 - val_loss: 186956.2344 - val_root_mean_squared_error: 432.3843\n",
      "\n",
      "Epoch 00009: val_loss did not improve from 2.96589\n",
      "Epoch 10/100\n",
      "152/152 [==============================] - 1s 7ms/step - loss: 0.6364 - root_mean_squared_error: 0.7978 - val_loss: 178115.0000 - val_root_mean_squared_error: 422.0367\n",
      "\n",
      "Epoch 00010: val_loss did not improve from 2.96589\n",
      "Epoch 11/100\n",
      "152/152 [==============================] - 1s 7ms/step - loss: 0.6387 - root_mean_squared_error: 0.7992 - val_loss: 178396.8594 - val_root_mean_squared_error: 422.3705\n",
      "\n",
      "Epoch 00011: val_loss did not improve from 2.96589\n",
      "Epoch 12/100\n",
      "152/152 [==============================] - 1s 7ms/step - loss: 0.6369 - root_mean_squared_error: 0.7980 - val_loss: 178813.1094 - val_root_mean_squared_error: 422.8630\n",
      "\n",
      "Epoch 00012: val_loss did not improve from 2.96589\n",
      "Epoch 13/100\n",
      "152/152 [==============================] - 1s 7ms/step - loss: 0.6394 - root_mean_squared_error: 0.7996 - val_loss: 191232.5781 - val_root_mean_squared_error: 437.3015\n",
      "\n",
      "Epoch 00013: val_loss did not improve from 2.96589\n",
      "Epoch 14/100\n",
      "152/152 [==============================] - 1s 7ms/step - loss: 0.6420 - root_mean_squared_error: 0.8012 - val_loss: 178209.1875 - val_root_mean_squared_error: 422.1483\n",
      "\n",
      "Epoch 00014: val_loss did not improve from 2.96589\n",
      "Epoch 15/100\n",
      "152/152 [==============================] - 1s 7ms/step - loss: 0.6378 - root_mean_squared_error: 0.7987 - val_loss: 171789.0781 - val_root_mean_squared_error: 414.4745\n",
      "\n",
      "Epoch 00015: val_loss did not improve from 2.96589\n",
      "Epoch 16/100\n",
      "152/152 [==============================] - 1s 7ms/step - loss: 0.6428 - root_mean_squared_error: 0.8018 - val_loss: 175439.0781 - val_root_mean_squared_error: 418.8545\n",
      "\n",
      "Epoch 00016: val_loss did not improve from 2.96589\n",
      "Epoch 17/100\n",
      "152/152 [==============================] - 1s 7ms/step - loss: 0.6402 - root_mean_squared_error: 0.8001 - val_loss: 161333.3594 - val_root_mean_squared_error: 401.6632\n",
      "\n",
      "Epoch 00017: val_loss did not improve from 2.96589\n",
      "Epoch 18/100\n",
      "152/152 [==============================] - 1s 7ms/step - loss: 0.6412 - root_mean_squared_error: 0.8008 - val_loss: 158193.5312 - val_root_mean_squared_error: 397.7355\n",
      "\n",
      "Epoch 00018: val_loss did not improve from 2.96589\n",
      "Epoch 19/100\n",
      "152/152 [==============================] - 1s 7ms/step - loss: 0.6440 - root_mean_squared_error: 0.8025 - val_loss: 152375.2500 - val_root_mean_squared_error: 390.3527\n",
      "\n",
      "Epoch 00019: val_loss did not improve from 2.96589\n",
      "Epoch 20/100\n",
      "152/152 [==============================] - 1s 7ms/step - loss: 0.6385 - root_mean_squared_error: 0.7990 - val_loss: 151446.7969 - val_root_mean_squared_error: 389.1617\n",
      "\n",
      "Epoch 00020: val_loss did not improve from 2.96589\n",
      "Epoch 21/100\n",
      "152/152 [==============================] - 1s 7ms/step - loss: 0.6386 - root_mean_squared_error: 0.7991 - val_loss: 152405.0312 - val_root_mean_squared_error: 390.3909\n",
      "\n",
      "Epoch 00021: val_loss did not improve from 2.96589\n",
      "Epoch 22/100\n",
      "152/152 [==============================] - 1s 7ms/step - loss: 0.6371 - root_mean_squared_error: 0.7982 - val_loss: 155799.4844 - val_root_mean_squared_error: 394.7144\n",
      "\n",
      "Epoch 00022: val_loss did not improve from 2.96589\n",
      "Epoch 23/100\n",
      "152/152 [==============================] - 1s 7ms/step - loss: 0.6350 - root_mean_squared_error: 0.7969 - val_loss: 140296.5000 - val_root_mean_squared_error: 374.5617\n",
      "\n",
      "Epoch 00023: val_loss did not improve from 2.96589\n",
      "Epoch 24/100\n",
      "152/152 [==============================] - 1s 7ms/step - loss: 0.6393 - root_mean_squared_error: 0.7996 - val_loss: 144571.9062 - val_root_mean_squared_error: 380.2261\n",
      "\n",
      "Epoch 00024: val_loss did not improve from 2.96589\n",
      "Epoch 25/100\n",
      "152/152 [==============================] - 1s 7ms/step - loss: 0.6391 - root_mean_squared_error: 0.7994 - val_loss: 134183.2500 - val_root_mean_squared_error: 366.3103\n",
      "\n",
      "Epoch 00025: val_loss did not improve from 2.96589\n",
      "Epoch 26/100\n",
      "152/152 [==============================] - 1s 7ms/step - loss: 0.6393 - root_mean_squared_error: 0.7996 - val_loss: 131055.6953 - val_root_mean_squared_error: 362.0161\n",
      "\n",
      "Epoch 00026: val_loss did not improve from 2.96589\n",
      "Epoch 27/100\n",
      "152/152 [==============================] - 1s 7ms/step - loss: 0.6450 - root_mean_squared_error: 0.8031 - val_loss: 130745.7969 - val_root_mean_squared_error: 361.5879\n",
      "\n",
      "Epoch 00027: val_loss did not improve from 2.96589\n",
      "Epoch 28/100\n",
      "152/152 [==============================] - 1s 7ms/step - loss: 0.6344 - root_mean_squared_error: 0.7965 - val_loss: 128503.8359 - val_root_mean_squared_error: 358.4743\n",
      "\n",
      "Epoch 00028: val_loss did not improve from 2.96589\n",
      "Epoch 29/100\n",
      "152/152 [==============================] - 1s 7ms/step - loss: 0.6398 - root_mean_squared_error: 0.7999 - val_loss: 127857.1641 - val_root_mean_squared_error: 357.5712\n",
      "\n",
      "Epoch 00029: val_loss did not improve from 2.96589\n",
      "Epoch 30/100\n",
      "152/152 [==============================] - 1s 7ms/step - loss: 0.6393 - root_mean_squared_error: 0.7995 - val_loss: 121597.2812 - val_root_mean_squared_error: 348.7080\n",
      "\n",
      "Epoch 00030: val_loss did not improve from 2.96589\n",
      "Epoch 31/100\n",
      "152/152 [==============================] - 1s 7ms/step - loss: 0.6392 - root_mean_squared_error: 0.7995 - val_loss: 120310.5781 - val_root_mean_squared_error: 346.8582\n",
      "\n",
      "Epoch 00031: val_loss did not improve from 2.96589\n"
     ]
    },
    {
     "data": {
      "text/plain": [
       "<keras.callbacks.History at 0x23aadbb5ca0>"
      ]
     },
     "execution_count": 11,
     "metadata": {},
     "output_type": "execute_result"
    }
   ],
   "source": [
    "model.fit(X_train, y_train, epochs=100, verbose=1, batch_size = 1, shuffle = False, validation_split = 0.2, callbacks = [stop, mc])"
   ]
  },
  {
   "cell_type": "code",
   "execution_count": 12,
   "id": "fba2402b",
   "metadata": {},
   "outputs": [],
   "source": [
    "best_model = load_model('best_model.h5')"
   ]
  },
  {
   "cell_type": "code",
   "execution_count": 13,
   "id": "9ed124ab",
   "metadata": {},
   "outputs": [
    {
     "data": {
      "text/plain": [
       "(49, 1)"
      ]
     },
     "execution_count": 13,
     "metadata": {},
     "output_type": "execute_result"
    }
   ],
   "source": [
    "y_pred_arr = []\n",
    "for i in range(0, 49, 1):\n",
    "    x_test = X_val[i:i+1]\n",
    "    y_pred = best_model.predict(x_test)\n",
    "    y_pred_arr.append(y_pred)\n",
    "y_pred_arr = np.array(y_pred_arr)\n",
    "y_pred_arr = y_pred_arr.reshape(49, -1)\n",
    "y_pred_arr.shape"
   ]
  },
  {
   "cell_type": "code",
   "execution_count": 14,
   "id": "85c530b9",
   "metadata": {},
   "outputs": [
    {
     "name": "stdout",
     "output_type": "stream",
     "text": [
      "-7573.9466009118205\n",
      "-0.02848195786449237\n"
     ]
    }
   ],
   "source": [
    "from sklearn.metrics import mean_absolute_error, r2_score\n",
    "mae = mean_absolute_error(y_val, y_pred_arr)\n",
    "mean = np.mean(y_val)\n",
    "percent_mae = mae/mean *100\n",
    "r2 = r2_score(y_val, y_pred_arr)\n",
    "print (percent_mae)\n",
    "print (r2)"
   ]
  },
  {
   "cell_type": "code",
   "execution_count": 15,
   "id": "00c6e6b8",
   "metadata": {},
   "outputs": [
    {
     "data": {
      "image/png": "[encoded data removed]",
      "text/plain": [
       "<Figure size 640x480 with 1 Axes>"
      ]
     },
     "metadata": {},
     "output_type": "display_data"
    }
   ],
   "source": [
    "import matplotlib.pyplot as plt\n",
    "plt.plot(y_pred_arr, label = 'Predicted data')\n",
    "plt.plot(y_val, label = 'Actual data')\n",
    "plt.legend()\n",
    "plt.show()\n"
   ]
  },
  {
   "cell_type": "code",
   "execution_count": null,
   "id": "2cd84bdb",
   "metadata": {},
   "outputs": [],
   "source": []
  }
 ],
 "metadata": {
  "kernelspec": {
   "display_name": "Python 3 (ipykernel)",
   "language": "python",
   "name": "python3"
  },
  "language_info": {
   "codemirror_mode": {
    "name": "ipython",
    "version": 3
   },
   "file_extension": ".py",
   "mimetype": "text/x-python",
   "name": "python",
   "nbconvert_exporter": "python",
   "pygments_lexer": "ipython3",
   "version": "3.9.15"
  }
 },
 "nbformat": 4,
 "nbformat_minor": 5
}
